{
 "cells": [
  {
   "cell_type": "code",
   "execution_count": 19,
   "id": "9ca8f42f",
   "metadata": {},
   "outputs": [
    {
     "data": {
      "text/plain": [
       "True"
      ]
     },
     "execution_count": 19,
     "metadata": {},
     "output_type": "execute_result"
    }
   ],
   "source": [
    "import requests\n",
    "import pandas as pd\n",
    "import json\n",
    "\n",
    "from dotenv import load_dotenv\n",
    "import os\n",
    "\n",
    "load_dotenv()  # defaults to .env in the current dir"
   ]
  },
  {
   "cell_type": "markdown",
   "id": "5b14aa66",
   "metadata": {},
   "source": [
    "# Data extraction"
   ]
  },
  {
   "cell_type": "code",
   "execution_count": 20,
   "id": "80afe675",
   "metadata": {},
   "outputs": [
    {
     "name": "stdout",
     "output_type": "stream",
     "text": [
      "INFORMAÇÕES - 61f998f7c3e320873b04e91a\n",
      "BAÚ DE IDEIAS - 65f2355d10a760b7c7f96bbc\n",
      "IDEIAS DE VÍDEOS - INSTAGRAM E TIK TOK - 65f23af42884067aab1776c3\n",
      "PRONTO PARA DESIGN/GRAVAÇÃO - 66fbebab671706c186e560e9\n",
      "THREADS - 65f2356538cf6755897ae93f\n",
      "TIK TOK - 66fbeaccb4cb61a8c682ade4\n",
      "POSTS PRONTOS - 618a55c4c1eb307fcf017a4d\n",
      "CALENDÁRIO - 66fbeb3c191cf8e62dbfb688\n",
      "POSTADAS - 65f43cdc87759238f2f07fa8\n",
      "INSTAGRAM - POSTADAS (ANTIGOS) - 63eff1116f75f425231bc703\n"
     ]
    }
   ],
   "source": [
    "TRELLO_API_KEY = os.getenv(\"TRELLO_API_KEY\")\n",
    "TRELLO_TOKEN = os.getenv(\"TRELLO_TOKEN\")\n",
    "BOARD_ID = os.getenv(\"BOARD_ID\")\n",
    "\n",
    "\n",
    "url = f\"https://api.trello.com/1/boards/{BOARD_ID}/lists\"\n",
    "params = {\"key\": TRELLO_API_KEY, \"token\": TRELLO_TOKEN}\n",
    "\n",
    "response = requests.get(url, params=params)\n",
    "lists = response.json()\n",
    "\n",
    "# Print list names and IDs\n",
    "for lst in lists:\n",
    "    print(f\"{lst['name']} - {lst['id']}\")"
   ]
  },
  {
   "cell_type": "code",
   "execution_count": 21,
   "id": "a553a431",
   "metadata": {},
   "outputs": [],
   "source": [
    "LIST_IDs = [\"65f43cdc87759238f2f07fa8\", \"66fbeb3c191cf8e62dbfb688\"]\n"
   ]
  },
  {
   "cell_type": "markdown",
   "id": "447ae7d5",
   "metadata": {},
   "source": [
    "## Just text"
   ]
  },
  {
   "cell_type": "code",
   "execution_count": 22,
   "id": "d360bbc0",
   "metadata": {},
   "outputs": [],
   "source": [
    "def extract_data(LIST_ID, TRELLO_API_KEY, TRELLO_TOKEN):\n",
    "    url = f\"https://api.trello.com/1/lists/{LIST_ID}/cards\"\n",
    "    params = {\"key\": TRELLO_API_KEY, \"token\": TRELLO_TOKEN}\n",
    "\n",
    "    response = requests.get(url, params=params)\n",
    "    cards = response.json()\n",
    "\n",
    "    data = []\n",
    "    for card in cards:\n",
    "\n",
    "        if card[\"desc\"] == \"\":\n",
    "            continue\n",
    "\n",
    "        data.append({\n",
    "            \"name\": card[\"name\"],\n",
    "            \"desc\": card[\"desc\"]\n",
    "        })\n",
    "\n",
    "    return data"
   ]
  },
  {
   "cell_type": "code",
   "execution_count": 23,
   "id": "252ab1dd",
   "metadata": {},
   "outputs": [
    {
     "name": "stdout",
     "output_type": "stream",
     "text": [
      "Saved 71 cards to trello_cards.json\n"
     ]
    }
   ],
   "source": [
    "posts_data = []\n",
    "\n",
    "for LIST_ID in LIST_IDs:\n",
    "    new_data = extract_data(LIST_ID, TRELLO_API_KEY, TRELLO_TOKEN)\n",
    "    posts_data.extend(new_data)\n",
    "\n",
    "# Save to JSON\n",
    "with open(\"trello_cards.json\", \"w\", encoding=\"utf-8\") as f:\n",
    "    json.dump(posts_data, f, ensure_ascii=False, indent=2)\n",
    "\n",
    "print(f\"Saved {len(posts_data)} cards to trello_cards.json\")"
   ]
  },
  {
   "cell_type": "markdown",
   "id": "b495d9e1",
   "metadata": {},
   "source": [
    "## Also Images"
   ]
  },
  {
   "cell_type": "code",
   "execution_count": 24,
   "id": "edd8e76f",
   "metadata": {},
   "outputs": [
    {
     "name": "stdout",
     "output_type": "stream",
     "text": [
      "Card: Portfolio AM - Pat\n",
      "Text: \n"
     ]
    }
   ],
   "source": [
    "import requests\n",
    "import os\n",
    "\n",
    "# Step 1: Get cards in the list\n",
    "cards_url = f\"https://api.trello.com/1/lists/{LIST_ID}/cards\"\n",
    "params = {\"key\": TRELLO_API_KEY, \"token\": TRELLO_TOKEN}\n",
    "cards = requests.get(cards_url, params=params).json()\n",
    "\n",
    "LIST_ID = '66fbeb3c191cf8e62dbfb688'\n",
    "\n",
    "# Step 2: Loop through cards and get image attachments\n",
    "for card in cards:\n",
    "    print(f\"Card: {card['name']}\")\n",
    "    print(f\"Text: {card['desc']}\")\n",
    "    \n",
    "    card_id = card['id']\n",
    "    attach_url = f\"https://api.trello.com/1/cards/{card_id}/attachments\"\n",
    "    attachments = requests.get(attach_url, params=params).json()\n",
    "\n",
    "    for att in attachments:\n",
    "        if att.get(\"isUpload\") and att.get(\"mimeType\", \"\").startswith(\"image\"):\n",
    "            image_url = att['url']\n",
    "            print(f\"🖼️ Image: {image_url}\")\n",
    "\n",
    "    break\n"
   ]
  },
  {
   "cell_type": "markdown",
   "id": "7fd466c6",
   "metadata": {},
   "source": [
    "# Embeddings"
   ]
  },
  {
   "cell_type": "markdown",
   "id": "661c5a8e",
   "metadata": {},
   "source": [
    "## Generate Embeddings"
   ]
  },
  {
   "cell_type": "code",
   "execution_count": 25,
   "id": "2bdd51e5",
   "metadata": {},
   "outputs": [],
   "source": [
    "from sentence_transformers import SentenceTransformer"
   ]
  },
  {
   "cell_type": "code",
   "execution_count": 26,
   "id": "b1fa13d3",
   "metadata": {},
   "outputs": [
    {
     "name": "stdout",
     "output_type": "stream",
     "text": [
      "Eu sou cliente Soeurs, isso significa que…\n",
      "Entendo a importância do visual & como ele impacta na percepção de valor sobre o meu negócio\n",
      "\n",
      "Construo diariamente meu posicionamento (dentro e fora do digital), com assertividade & estratégia\n",
      "\n",
      "Entendo que a a minha marca não é estática, que ela caminha e evolui comigo ao longo do tempo\n",
      "\n",
      "Amo ter meu universo visual definido & aplicado no meu perfil (e aonde mais quiser)\n",
      "\n",
      "Conto com um olhar atento & criativo para cada projeto, materializando minhas ideias com muita empolgação\n",
      "\n",
      "‌\n",
      "\n",
      "\\*trazer bandeiras que levantamos no estúdio\n",
      "\n"
     ]
    }
   ],
   "source": [
    "# Load the JSON file\n",
    "with open(\"trello_cards.json\", \"r\", encoding=\"utf-8\") as f:\n",
    "    posts_data = json.load(f)\n",
    "\n",
    "# check a few entries\n",
    "for post in posts_data[:1]:\n",
    "    print(f\"{post['name']}\\n{post['desc']}\\n\")"
   ]
  },
  {
   "cell_type": "code",
   "execution_count": 27,
   "id": "23be53ae",
   "metadata": {},
   "outputs": [
    {
     "name": "stderr",
     "output_type": "stream",
     "text": [
      "Batches: 100%|██████████| 3/3 [00:00<00:00,  3.52it/s]\n"
     ]
    }
   ],
   "source": [
    "# load model\n",
    "model = SentenceTransformer(\"paraphrase-multilingual-MiniLM-L12-v2\")\n",
    "\n",
    "# Prepare the texts: name + desc\n",
    "texts = [f\"{item['name']}. {item['desc']}\" for item in posts_data]\n",
    "\n",
    "# Generate embeddings\n",
    "embeddings = model.encode(texts, show_progress_bar=True)"
   ]
  },
  {
   "cell_type": "markdown",
   "id": "f1990b00",
   "metadata": {},
   "source": [
    "## Store Embeddings in FAISS"
   ]
  },
  {
   "cell_type": "code",
   "execution_count": 28,
   "id": "7b705adf",
   "metadata": {},
   "outputs": [
    {
     "name": "stdout",
     "output_type": "stream",
     "text": [
      "Stored 71 embeddings and metadata.\n"
     ]
    }
   ],
   "source": [
    "import faiss\n",
    "import numpy as np\n",
    "import json\n",
    "\n",
    "# Convert to NumPy array (required by FAISS)\n",
    "embedding_array = np.array(embeddings).astype(\"float32\")\n",
    "\n",
    "# Get the dimension of each embedding\n",
    "dimension = embedding_array.shape[1]\n",
    "\n",
    "# Create a FAISS index\n",
    "index = faiss.IndexFlatL2(dimension)  # L2 = Euclidean distance\n",
    "index.add(embedding_array)\n",
    "\n",
    "# Save the index\n",
    "faiss.write_index(index, \"posts_index.faiss\")\n",
    "\n",
    "# Save metadata (e.g. post titles, captions)\n",
    "with open(\"posts_metadata.json\", \"w\", encoding=\"utf-8\") as f:\n",
    "    json.dump(posts_data, f, ensure_ascii=False, indent=2)\n",
    "\n",
    "print(f\"Stored {len(posts_data)} embeddings and metadata.\")"
   ]
  },
  {
   "cell_type": "markdown",
   "id": "7144ac66",
   "metadata": {},
   "source": [
    "# Retrieval + LLM Generation"
   ]
  },
  {
   "cell_type": "code",
   "execution_count": 29,
   "id": "4f945c8d",
   "metadata": {},
   "outputs": [],
   "source": [
    "user_input = 'Escreva uma postagem sobre estratégias para a criação de identidade visual'"
   ]
  },
  {
   "cell_type": "code",
   "execution_count": 30,
   "id": "7ea6a63d",
   "metadata": {},
   "outputs": [],
   "source": [
    "query_embedding = model.encode([user_input])[0]  # one vector"
   ]
  },
  {
   "cell_type": "code",
   "execution_count": 31,
   "id": "10a4675b",
   "metadata": {},
   "outputs": [],
   "source": [
    "import faiss\n",
    "import numpy as np\n",
    "import json\n",
    "\n",
    "# Load index + metadata\n",
    "index = faiss.read_index(\"posts_index.faiss\")\n",
    "\n",
    "with open(\"posts_metadata.json\", \"r\", encoding=\"utf-8\") as f:\n",
    "    posts_data = json.load(f)\n",
    "\n",
    "# Search top 3 similar posts\n",
    "D, I = index.search(np.array([query_embedding]).astype(\"float32\"), k=5)\n",
    "\n",
    "# Get matched posts\n",
    "examples = [posts_data[i] for i in I[0]]"
   ]
  },
  {
   "cell_type": "code",
   "execution_count": 32,
   "id": "62ba2e97",
   "metadata": {},
   "outputs": [
    {
     "data": {
      "text/plain": [
       "[{'name': '3 mitos sobre identidade visual - FOTO NA CAPA',\n",
       "  'desc': '3 mitos sobre identidade visual\\n\\n1- É só a logo ou uma paleta de cores: NÃOOO! Fazemos a construção de todos os itens visuais da sua marca, para que você construa um universo visual estratégico e 100% alinhado com as suas necessidades e desejos.\\n\\n2- O trabalho acaba após a entrega.\\n\\nSentimos te informar, mas não. A etapa mais importante vem depois da entrega do manual de marca: aplicação! Precisamos inserir esse universo de marca diariamente, em todos os pontos de contato entre você/seu negócio e o seu cliente.\\n\\n3- Apenas grandes negócios e marcas corporativas devem ter uma identidade visual\\n\\nDe forma alguma! Quanto antes você investir nessa parte tão importante da sua empresa, antes conseguirá elevar a percepção de valor em relação ao seu trabalho, atrair clientes alinhados com o seu negócio e construir uma marca memorável.\\n\\nConta pra gente: Em qual desses mitos você já acreditou?'},\n",
       " {'name': 'REELS (refazer com vídeo do ensaio)',\n",
       "  'desc': '\\\\-Tudo fez sentido depois que eu entendi que: Não adianta ter uma identidade visual se voce não aplica ela no dia a dia do seu negócio.\\n\\n\\u200c\\n\\nLEGENDA:\\n\\nUm dos erros mais comuns que eu vejo nesse universo do empreendedorismo é: a pessoa passa por todo o processo de criação da identidade da sua marca, desenvolve um trabalho super bacana com um designer e depois não aplica no dia a dia.\\n\\nEu sei que é difícil pensar em tantos detalhes o tempo todo, mas ter uma identidade visual serve justamente para voce filtrar o que faz sentido para voce e para a sua marca.\\n\\nAlgumas dicas práticas:\\n\\n- Use sempre objetos no seu dia a dia de trabalho que combinam com o universo visual da sua marca.\\n- Tenha fundos prontos para stories/vídeos que estejam dentro das cores da sua marca.\\n- Desenvolva documentos digitais que estejam dentro da sua identidade visual, para apenas editar no dia a dia do seu trabalho.'},\n",
       " {'name': 'Feedbacks duda',\n",
       "  'desc': 'CAPA: “Ninguém no mundo teria feito uma identidade visual mais a minha cara do que vocês!“\\n\\nPÁGINA 01:  A Duda encontrou o nosso Estúdio através de uma indicação de uma das nossas clientes buscando criar a sua identidade visual. Ao entrar em contato conosco, contou que já trabalha com fotografia há mais de 6 anos e nunca havia desenvolvido a identidade da marca, apenas feito uma logo por conta própria quando começou.\\n\\nPÁGINA 02: Iniciamos o nosso trabalho juntas e logo na primeira reunião - o briefing - já conseguimos captar 100% o estilo & a essência do trabalho da Duda!\\n\\nPÁGINA 03: MARCA DUDA\\n\\nPÁGINA 04: E esse foi o feedback maravilhoso que ela nos deu: Print\\n\\nPÁGINA 05: 6 meses depois, voltamos a trabalhar juntas, agora nas redes sociais - com um conteúdo 100% alinhado com seu posicionamento & designs que representam sua identidade & trabalho impecáveis.\\n\\nPÁGINA 06: Antes feed duda x depois feed duda\\n\\nPÁGINA 07: Feedbacks social duda\\n\\nCTA: A sua marca pode ser a próxima! Conheça nossos serviços no link da bio.'},\n",
       " {'name': 'A verdade sobre ter uma identidade visual',\n",
       "  'desc': 'CAPA: A verdade sobre ter uma identidade visual\\n\\nPÁGINA 01: “Preciso gostar da minha paleta de cores?”\\n”Não quero ter uma identidade igual a de todo mundo”\\n\\n“Não quero ficar presa em uma identidade visual”\\n\\n“E se eu criar uma identidade e não me identificar com ela?”\\n\\\\- Se você já teve algum desses pensamentos, precisamos conversar!\\n\\n\\u200c\\n\\nPÁGINA 02: Identidade visual é sobre liberdade.\\n\\nAté porque, ao desenvolver uma identidade, pensamos em TODOS os aspectos da sua marca, negócio & público. É sobre assertividade, clareza & essência.\\n\\n\\u200c\\n\\nPÁGINA 04: Com uma identidade visual estratégica e intencional:\\n\\n— Você consegue identificar com facilidade o que faz sentido para o universo visual da sua marca.\\n\\n— Você consegue tomar decisões assertivas dentro do seu negócio.\\n\\n— Você aumenta a percepção de valor sobre o seu produto/serviço\\n\\n— Você consegue explorar o seu visual em todos os pontos de contato com o seu cliente, com a certeza de que está fazendo isso da forma certa.\\n\\n— Você consegue atrair clientes alinhados com os valores da sua marca\\n\\nPÁGINA 05: E assim, você vai desconstruindo essa ideia de que uma identidade visual vai te limitar ou te tornar “mais do mesmo”. Você vai se APAIXONAR pela sua marca, e o melhor: seus clientes também!'},\n",
       " {'name': 'É assim que as clientes Soeurs constroem seu posicionamento visual no digital',\n",
       "  'desc': 'Página 01: Mentora de profissionais da beleza\\nPágina 02: Esteticista\\n….'}]"
      ]
     },
     "execution_count": 32,
     "metadata": {},
     "output_type": "execute_result"
    }
   ],
   "source": [
    "examples "
   ]
  },
  {
   "cell_type": "code",
   "execution_count": 33,
   "id": "f65572cb",
   "metadata": {},
   "outputs": [],
   "source": [
    "rag_prompt = \"Baseado no estilo dos exemplos abaixo, crie uma nova postagem sobre: \" + user_input + \"\\n\\n\"\n",
    "\n",
    "for i, ex in enumerate(examples, 1):\n",
    "    rag_prompt += f\"Exemplo {i}:\\nTítulo: {ex['name']}\\nLegenda: {ex['desc']}\\n\\n\"\n",
    "\n",
    "rag_prompt += \"Nova legenda:\""
   ]
  },
  {
   "cell_type": "code",
   "execution_count": 34,
   "id": "1afd2fbf",
   "metadata": {},
   "outputs": [
    {
     "data": {
      "text/plain": [
       "'Baseado no estilo dos exemplos abaixo, crie uma nova postagem sobre: Escreva uma postagem sobre estratégias para a criação de identidade visual\\n\\nExemplo 1:\\nTítulo: 3 mitos sobre identidade visual - FOTO NA CAPA\\nLegenda: 3 mitos sobre identidade visual\\n\\n1- É só a logo ou uma paleta de cores: NÃOOO! Fazemos a construção de todos os itens visuais da sua marca, para que você construa um universo visual estratégico e 100% alinhado com as suas necessidades e desejos.\\n\\n2- O trabalho acaba após a entrega.\\n\\nSentimos te informar, mas não. A etapa mais importante vem depois da entrega do manual de marca: aplicação! Precisamos inserir esse universo de marca diariamente, em todos os pontos de contato entre você/seu negócio e o seu cliente.\\n\\n3- Apenas grandes negócios e marcas corporativas devem ter uma identidade visual\\n\\nDe forma alguma! Quanto antes você investir nessa parte tão importante da sua empresa, antes conseguirá elevar a percepção de valor em relação ao seu trabalho, atrair clientes alinhados com o seu negócio e construir uma marca memorável.\\n\\nConta pra gente: Em qual desses mitos você já acreditou?\\n\\nExemplo 2:\\nTítulo: REELS (refazer com vídeo do ensaio)\\nLegenda: \\\\-Tudo fez sentido depois que eu entendi que: Não adianta ter uma identidade visual se voce não aplica ela no dia a dia do seu negócio.\\n\\n\\u200c\\n\\nLEGENDA:\\n\\nUm dos erros mais comuns que eu vejo nesse universo do empreendedorismo é: a pessoa passa por todo o processo de criação da identidade da sua marca, desenvolve um trabalho super bacana com um designer e depois não aplica no dia a dia.\\n\\nEu sei que é difícil pensar em tantos detalhes o tempo todo, mas ter uma identidade visual serve justamente para voce filtrar o que faz sentido para voce e para a sua marca.\\n\\nAlgumas dicas práticas:\\n\\n- Use sempre objetos no seu dia a dia de trabalho que combinam com o universo visual da sua marca.\\n- Tenha fundos prontos para stories/vídeos que estejam dentro das cores da sua marca.\\n- Desenvolva documentos digitais que estejam dentro da sua identidade visual, para apenas editar no dia a dia do seu trabalho.\\n\\nExemplo 3:\\nTítulo: Feedbacks duda\\nLegenda: CAPA: “Ninguém no mundo teria feito uma identidade visual mais a minha cara do que vocês!“\\n\\nPÁGINA 01:  A Duda encontrou o nosso Estúdio através de uma indicação de uma das nossas clientes buscando criar a sua identidade visual. Ao entrar em contato conosco, contou que já trabalha com fotografia há mais de 6 anos e nunca havia desenvolvido a identidade da marca, apenas feito uma logo por conta própria quando começou.\\n\\nPÁGINA 02: Iniciamos o nosso trabalho juntas e logo na primeira reunião - o briefing - já conseguimos captar 100% o estilo & a essência do trabalho da Duda!\\n\\nPÁGINA 03: MARCA DUDA\\n\\nPÁGINA 04: E esse foi o feedback maravilhoso que ela nos deu: Print\\n\\nPÁGINA 05: 6 meses depois, voltamos a trabalhar juntas, agora nas redes sociais - com um conteúdo 100% alinhado com seu posicionamento & designs que representam sua identidade & trabalho impecáveis.\\n\\nPÁGINA 06: Antes feed duda x depois feed duda\\n\\nPÁGINA 07: Feedbacks social duda\\n\\nCTA: A sua marca pode ser a próxima! Conheça nossos serviços no link da bio.\\n\\nExemplo 4:\\nTítulo: A verdade sobre ter uma identidade visual\\nLegenda: CAPA: A verdade sobre ter uma identidade visual\\n\\nPÁGINA 01: “Preciso gostar da minha paleta de cores?”\\n”Não quero ter uma identidade igual a de todo mundo”\\n\\n“Não quero ficar presa em uma identidade visual”\\n\\n“E se eu criar uma identidade e não me identificar com ela?”\\n\\\\- Se você já teve algum desses pensamentos, precisamos conversar!\\n\\n\\u200c\\n\\nPÁGINA 02: Identidade visual é sobre liberdade.\\n\\nAté porque, ao desenvolver uma identidade, pensamos em TODOS os aspectos da sua marca, negócio & público. É sobre assertividade, clareza & essência.\\n\\n\\u200c\\n\\nPÁGINA 04: Com uma identidade visual estratégica e intencional:\\n\\n— Você consegue identificar com facilidade o que faz sentido para o universo visual da sua marca.\\n\\n— Você consegue tomar decisões assertivas dentro do seu negócio.\\n\\n— Você aumenta a percepção de valor sobre o seu produto/serviço\\n\\n— Você consegue explorar o seu visual em todos os pontos de contato com o seu cliente, com a certeza de que está fazendo isso da forma certa.\\n\\n— Você consegue atrair clientes alinhados com os valores da sua marca\\n\\nPÁGINA 05: E assim, você vai desconstruindo essa ideia de que uma identidade visual vai te limitar ou te tornar “mais do mesmo”. Você vai se APAIXONAR pela sua marca, e o melhor: seus clientes também!\\n\\nExemplo 5:\\nTítulo: É assim que as clientes Soeurs constroem seu posicionamento visual no digital\\nLegenda: Página 01: Mentora de profissionais da beleza\\nPágina 02: Esteticista\\n….\\n\\nNova legenda:'"
      ]
     },
     "execution_count": 34,
     "metadata": {},
     "output_type": "execute_result"
    }
   ],
   "source": [
    "rag_prompt"
   ]
  },
  {
   "cell_type": "code",
   "execution_count": 35,
   "id": "7ba5ccd2",
   "metadata": {},
   "outputs": [
    {
     "name": "stdout",
     "output_type": "stream",
     "text": [
      "📝 Nova legenda:\n",
      " Título: 5 Estratégias Infalíveis para Criar uma Identidade Visual Impactante\n",
      "\n",
      "Legenda: CAPA: Estratégias para uma identidade visual de sucesso\n",
      "\n",
      "PÁGINA 01: Você sabia que uma identidade visual bem construída pode transformar completamente o seu negócio? Vamos explorar 5 estratégias infalíveis para criar uma identidade visual que não só impressiona, mas também conecta com o seu público!\n",
      "\n",
      "PÁGINA 02: 1. Conheça seu público!\n",
      "\n",
      "Antes de qualquer criação, é essencial entender quem são as pessoas que você deseja alcançar. Isso vai te ajudar a definir cores, fontes e elementos que realmente ressoam com o seu público-alvo. Lembre-se, o design deve falar diretamente com quem você quer conquistar!\n",
      "\n",
      "PÁGINA 03: 2. Vá além da logo.\n",
      "\n",
      "Uma identidade visual completa engloba muito mais do que apenas um logotipo. Pense em paleta de cores, tipografia, ícones, padrões e imagens que, juntos, criam um universo visual coeso e memorável para a sua marca.\n",
      "\n",
      "PÁGINA 04: 3. Seja consistente.\n",
      "\n",
      "Manter a consistência nos elementos visuais em todos os pontos de contato com o cliente é crucial. Isso ajuda a reforçar a presença da sua marca no mercado e a construir confiança com o público.\n",
      "\n",
      "PÁGINA 05: 4. Pense na aplicação.\n",
      "\n",
      "Antes mesmo de finalizar sua identidade visual, pense em como ela será aplicada no\n"
     ]
    }
   ],
   "source": [
    "from openai import OpenAI\n",
    "import os\n",
    "\n",
    "\n",
    "openai_api_key = os.getenv(\"OPENAI_API_KEY\")\n",
    "\n",
    "client = OpenAI(api_key=openai_api_key)\n",
    "\n",
    "response = client.chat.completions.create(\n",
    "    model=\"gpt-4o\",\n",
    "    messages=[\n",
    "        {\"role\": \"system\", \"content\": \"Você é uma criadora de conteúdo dona de um estúdio de design, focada em criação de identidade visual e serviços de artes mensais para o Instagram.\"},\n",
    "        {\"role\": \"user\", \"content\": rag_prompt}\n",
    "    ],\n",
    "    temperature=0.8,\n",
    "    max_tokens=300\n",
    ")\n",
    "\n",
    "output = response.choices[0].message.content\n",
    "print(\"📝 Nova legenda:\\n\", output)\n"
   ]
  },
  {
   "cell_type": "code",
   "execution_count": null,
   "id": "1e7ee0f6",
   "metadata": {},
   "outputs": [],
   "source": []
  }
 ],
 "metadata": {
  "kernelspec": {
   "display_name": "venv",
   "language": "python",
   "name": "python3"
  },
  "language_info": {
   "codemirror_mode": {
    "name": "ipython",
    "version": 3
   },
   "file_extension": ".py",
   "mimetype": "text/x-python",
   "name": "python",
   "nbconvert_exporter": "python",
   "pygments_lexer": "ipython3",
   "version": "3.12.3"
  }
 },
 "nbformat": 4,
 "nbformat_minor": 5
}
